{
 "cells": [
  {
   "cell_type": "code",
   "execution_count": 1,
   "metadata": {},
   "outputs": [
    {
     "name": "stderr",
     "output_type": "stream",
     "text": [
      "c:\\Users\\gioel\\AppData\\Local\\Programs\\Python\\Python310\\lib\\site-packages\\numpy\\_distributor_init.py:30: UserWarning: loaded more than 1 DLL from .libs:\n",
      "c:\\Users\\gioel\\AppData\\Local\\Programs\\Python\\Python310\\lib\\site-packages\\numpy\\.libs\\libopenblas.EL2C6PLE4ZYW3ECEVIV3OXXGRN2NRFM2.gfortran-win_amd64.dll\n",
      "c:\\Users\\gioel\\AppData\\Local\\Programs\\Python\\Python310\\lib\\site-packages\\numpy\\.libs\\libopenblas.FB5AE2TYXYH2IJRDKGDGQ3XBKLKTF43H.gfortran-win_amd64.dll\n",
      "  warnings.warn(\"loaded more than 1 DLL from .libs:\"\n"
     ]
    }
   ],
   "source": [
    "# libraries importing\n",
    "import pandas as pd\n",
    "import matplotlib.pyplot as plt\n",
    "%matplotlib inline\n",
    "\n",
    "from sklearn.preprocessing import MinMaxScaler\n",
    "import numpy as np\n",
    "\n",
    "from tensorflow import keras\n",
    "from keras.models import Model, load_model, Sequential\n",
    "from keras.layers import Input, Dense, LSTM, GRU, RepeatVector, TimeDistributed\n",
    "from keras.callbacks import EarlyStopping\n",
    "import pickle\n",
    "from tqdm import tqdm "
   ]
  },
  {
   "cell_type": "code",
   "execution_count": 2,
   "metadata": {},
   "outputs": [],
   "source": [
    "WINDOW_SIZE=40\n",
    "def create_sequences(values, time_steps=WINDOW_SIZE):\n",
    "    output = []\n",
    "    for i in range(len(values) - time_steps + 1):\n",
    "        output.append(values[i : (i + time_steps)])\n",
    "    return np.stack(output)\n",
    "\n",
    "\n",
    "def MODEL():\n",
    "\n",
    "\n",
    "    model = Sequential()\n",
    "    model.add(LSTM(144, activation='relu', return_sequences=True, input_shape=(WINDOW_SIZE-1, 19)))\n",
    "    model.add(LSTM(40, activation='relu'))\n",
    "    model.add(Dense(19))\n",
    "    model.compile(optimizer='adam',loss='mse', metrics=[\"mse\"])\n",
    "    return model\n",
    "\n"
   ]
  },
  {
   "cell_type": "code",
   "execution_count": 4,
   "metadata": {},
   "outputs": [
    {
     "name": "stdout",
     "output_type": "stream",
     "text": [
      "Model: \"sequential_1\"\n",
      "_________________________________________________________________\n",
      " Layer (type)                Output Shape              Param #   \n",
      "=================================================================\n",
      " lstm_2 (LSTM)               (None, 39, 144)           94464     \n",
      "                                                                 \n",
      " lstm_3 (LSTM)               (None, 40)                29600     \n",
      "                                                                 \n",
      " dense_1 (Dense)             (None, 19)                779       \n",
      "                                                                 \n",
      "=================================================================\n",
      "Total params: 124,843\n",
      "Trainable params: 124,843\n",
      "Non-trainable params: 0\n",
      "_________________________________________________________________\n",
      "Epoch 1/40\n",
      "1959/1959 [==============================] - ETA: 0s - loss: 0.8347 - mse: 0.8347"
     ]
    }
   ],
   "source": [
    "#create model\n",
    "with open(f'./DATA_SPLITTED/app_tot.pkl', 'rb') as f:\n",
    "            data= pickle.load(f)\n",
    "\n",
    "X_train=data['X_train']\n",
    "X_val=data['X_val']\n",
    "\n",
    "model=MODEL()\n",
    "callback = keras.callbacks.EarlyStopping(monitor='loss', patience=30)\n",
    "\n",
    "model.summary()\n",
    "\n",
    "Y=X_train[:,39,:]\n",
    "\n",
    "Y_val=X_val[:,39,:]\n",
    "\n",
    "\n",
    "history = model.fit(X_train[:,:39,:],Y, epochs=40, batch_size=32,validation_data=(X_val[:,:39,:],Y_val), verbose=1, callbacks=[callback])\n",
    "model.save_weights(f\"LSTM_MODEL/model_apptot_Win_{WINDOW_SIZE}_LSTM_144_40.h5\")"
   ]
  },
  {
   "cell_type": "code",
   "execution_count": 3,
   "metadata": {},
   "outputs": [],
   "source": [
    "import pickle\n",
    "with open(f'./DATA_SPLITTED/app_tot.pkl', 'rb') as f:\n",
    "            DATA = pickle.load(f)\n",
    "    \n",
    "model=MODEL()\n",
    "\n",
    "model.load_weights(filepath=f\"LSTM_MODEL/model_apptot_Win_{WINDOW_SIZE}_LSTM_144_40.h5\")\n",
    "\n",
    "e=model.predict(DATA['X_test'][:,:39,:])\n",
    "score=np.mean(np.power(e-DATA['X_test'][:,39,:],2),axis=(1))\n",
    "\n",
    "np.save('./score_analisi/LSTM.npy',score,allow_pickle=True)\n"
   ]
  },
  {
   "cell_type": "code",
   "execution_count": 11,
   "metadata": {},
   "outputs": [
    {
     "name": "stderr",
     "output_type": "stream",
     "text": [
      "100%|██████████| 10/10 [00:25<00:00,  2.58s/it]\n",
      "100%|██████████| 10/10 [00:24<00:00,  2.42s/it]\n",
      "100%|██████████| 10/10 [00:23<00:00,  2.37s/it]\n",
      "100%|██████████| 10/10 [00:23<00:00,  2.30s/it]\n",
      "100%|██████████| 10/10 [00:22<00:00,  2.26s/it]\n",
      "100%|██████████| 10/10 [00:22<00:00,  2.25s/it]\n",
      "100%|██████████| 10/10 [00:22<00:00,  2.26s/it]\n",
      "100%|██████████| 10/10 [00:22<00:00,  2.28s/it]\n",
      "100%|██████████| 10/10 [00:22<00:00,  2.30s/it]\n",
      "100%|██████████| 10/10 [00:24<00:00,  2.49s/it]\n",
      "100%|██████████| 10/10 [00:26<00:00,  2.62s/it]\n",
      "100%|██████████| 10/10 [00:27<00:00,  2.74s/it]\n"
     ]
    }
   ],
   "source": [
    "import csv\n",
    "\n",
    "\n",
    "header=['th_factor','method','value','F1','precision','recall','TP','TN','FP','FN']\n",
    "\n",
    "with open('LSTM.csv', 'w', encoding='UTF8') as f:\n",
    "    writer = csv.writer(f)\n",
    "\n",
    "    writer.writerow(header)\n",
    "    thresholding_factor=[0.5,1,1.5,2]\n",
    "    for t in thresholding_factor:\n",
    "        with open(f'./DATA_SPLITTED/app_tot.pkl', 'rb') as f:\n",
    "            DATA = pickle.load(f)\n",
    "    \n",
    "        model=MODEL()\n",
    "\n",
    "        model.load_weights(filepath=f'LSTM_MODEL/model_apptot_Win_{WINDOW_SIZE}_LSTM_144_40_early.h5')\n",
    "\n",
    "\n",
    "        e=model.predict(DATA['X_test'])\n",
    "        score=np.mean(np.power(e-DATA['X_test'][:,39,:],2),axis=(1))\n",
    "\n",
    "        #IQR\n",
    "        q1, q3 = np.percentile(score, 25), np.percentile(score, 75)\n",
    "        iqr = q3 - q1\n",
    "        IQR = q3 + t* iqr\n",
    "\n",
    "        #MAD\n",
    "        median = np.median(score)\n",
    "        mad = 1.4826 * np.median(np.abs(score - median))\n",
    "        MAD = median + t * mad\n",
    "\n",
    "        #STD\n",
    "        mean, std = np.mean(score), np.std(score)\n",
    "        STD = mean + t * std\n",
    "\n",
    "        method=[IQR,MAD,STD]\n",
    "        \n",
    "        for g in range(len(method)):\n",
    "            TP=0\n",
    "            TN=0\n",
    "            FN=0\n",
    "            FP=0\n",
    "\n",
    "            for i in tqdm(range(1,11)):\n",
    "                if(i!=7):\n",
    "                \n",
    "                    TEST=np.load(f'./OUTPUTS_ROOT/data/processed/spark_0_15s/spark_0_trace-scl_std/test{i}.npy',allow_pickle=True)\n",
    "\n",
    "                    ANOMALY=np.load(f'./OUTPUTS_ROOT/data/processed/spark_0_15s/spark_0_trace-scl_std/y_test{i}.npy',allow_pickle=True)\n",
    "\n",
    "                    with open(f'./OUTPUTS_ROOT/data/interim/spark_0_15s/test_info{i}.pkl', 'rb') as f:\n",
    "                        TEST_info= pickle.load(f)\n",
    "\n",
    "\n",
    "                    \n",
    "                    for x in range(len(TEST_info)):\n",
    "\n",
    "                        X=create_sequences(TEST[x])\n",
    "\n",
    "                        Y=model.predict(X)\n",
    "                        error=np.mean(np.power(X[:,39,:]-Y,2),axis=(1))\n",
    "\n",
    "                        error=[error[l] if error[l]<2 else 2 for l in range(len(error))]\n",
    "\n",
    "                        outlier=error>method[g]\n",
    "\n",
    "\n",
    "                        true_= ANOMALY[x][WINDOW_SIZE-1:]>=1\n",
    "                        prediction_ = outlier[:].astype(int)==1\n",
    "                        \n",
    "                        TP = TP+(true_ & prediction_).sum()   \n",
    "                        TN = TN+(~true_ & ~prediction_).sum()  \n",
    "                        FP = FP+(~true_ & prediction_).sum()    \n",
    "                        FN = FN+(true_ & ~prediction_).sum()  \n",
    "\n",
    "            PREC=TP / (TP + FP)\n",
    "            REC = TP/ (TP+FN)\n",
    "            f1=2 * PREC * REC/(PREC + REC)\n",
    "            m=['IQR','MAD','STD']\n",
    "            row=[t,m[g],method[g],f1,PREC,REC,TP,TN,FP,FN]\n",
    "            writer.writerow(row)"
   ]
  }
 ],
 "metadata": {
  "kernelspec": {
   "display_name": "Python 3",
   "language": "python",
   "name": "python3"
  },
  "language_info": {
   "codemirror_mode": {
    "name": "ipython",
    "version": 3
   },
   "file_extension": ".py",
   "mimetype": "text/x-python",
   "name": "python",
   "nbconvert_exporter": "python",
   "pygments_lexer": "ipython3",
   "version": "3.10.4"
  },
  "orig_nbformat": 4,
  "vscode": {
   "interpreter": {
    "hash": "7732ff24e494917fdc04ba71f0b346f07dc6128216c19827ae3641c937bc9395"
   }
  }
 },
 "nbformat": 4,
 "nbformat_minor": 2
}
