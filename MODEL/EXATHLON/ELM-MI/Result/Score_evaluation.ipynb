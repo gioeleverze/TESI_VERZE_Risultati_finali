{
 "cells": [
  {
   "cell_type": "code",
   "execution_count": null,
   "metadata": {},
   "outputs": [],
   "source": [
    "import csv\n",
    "import tqdm\n",
    "\n",
    "import pandas as pd\n",
    "import numpy as np"
   ]
  },
  {
   "attachments": {},
   "cell_type": "markdown",
   "metadata": {},
   "source": [
    "GT ANOMALY"
   ]
  },
  {
   "cell_type": "code",
   "execution_count": null,
   "metadata": {},
   "outputs": [],
   "source": [
    "\n",
    "anomaly=[]\n",
    "for i in range(1,11):\n",
    "    ANOMALY=np.load(f'./../../OUTPUTS_ROOT/data/processed/spark_0_15s/spark_0_trace-scl_std/y_test{i}.npy',allow_pickle=True)\n",
    "    for x in range(len(ANOMALY)):\n",
    "        an=[]\n",
    "        for v in range(len(ANOMALY[x])):\n",
    "            an.append(ANOMALY[x][v])\n",
    "        c=0\n",
    "        a=[]\n",
    "        while c<len(an):\n",
    "            a.append(an[c])\n",
    "            c=c+1\n",
    "\n",
    "        an=np.array(a)\n",
    "\n",
    "        anomaly.append(an)  \n",
    "        \n",
    "anomaly=np.array(anomaly)"
   ]
  },
  {
   "attachments": {},
   "cell_type": "markdown",
   "metadata": {},
   "source": [
    "SCORE"
   ]
  },
  {
   "cell_type": "code",
   "execution_count": null,
   "metadata": {},
   "outputs": [],
   "source": [
    "SAMPLING_FACTOR=1\n",
    "list_of_df=[]\n",
    "for i in range(34):\n",
    "    read=[pd.read_csv(f'{i}.csv', \n",
    "                          sep=';', \n",
    "                          parse_dates=True)]\n",
    "    read=np.array(read).reshape(-1)\n",
    "    c=0\n",
    "    a=[]\n",
    "    succ=SAMPLING_FACTOR\n",
    "    prec=0\n",
    "    value= [0 for x in range(len(read)*SAMPLING_FACTOR)]\n",
    "    while c<len(read):\n",
    "        for v in range(prec,succ):\n",
    "            value[v]=read[c]\n",
    "        c=c+1\n",
    "        succ=succ+SAMPLING_FACTOR\n",
    "\n",
    "        prec=prec+SAMPLING_FACTOR\n",
    "    #downsampled\n",
    "    \n",
    "    \n",
    "    list_of_df.append(value)"
   ]
  },
  {
   "cell_type": "code",
   "execution_count": null,
   "metadata": {},
   "outputs": [],
   "source": [
    "\n",
    "\n",
    "\n",
    "header=['th_factor','method','value','F1','precision','recall','TP','TN','FP','FN']\n",
    "\n",
    "with open(f'ELM_MI.csv', 'w', encoding='UTF8') as f:\n",
    "    writer = csv.writer(f)\n",
    "\n",
    "    writer.writerow(header)\n",
    "    thresholding_factor=[0.25,0.5,0.4,0.1,0.05,0.6,0.7]\n",
    "    for t in thresholding_factor:\n",
    "        \n",
    "        test_=[pd.read_csv(f'threshold_score.csv', \n",
    "                          sep=',', \n",
    "                          parse_dates=True)]\n",
    "\n",
    "        score=np.array(test_).reshape(-1)\n",
    "\n",
    "        #IQR\n",
    "        q1, q3 = np.percentile(score, 25), np.percentile(score, 75)\n",
    "        iqr = q3 - q1\n",
    "        IQR = q3 + t* iqr\n",
    "\n",
    "        #MAD\n",
    "        median = np.median(score)\n",
    "        mad = 1.4826 * np.median(np.abs(score - median))\n",
    "        MAD = median + t * mad\n",
    "\n",
    "        #STD\n",
    "        mean, std = np.mean(score), np.std(score)\n",
    "        STD = mean + t * std\n",
    "\n",
    "        method=[IQR,MAD,STD]\n",
    "        \n",
    "        for g in range(len(method)):\n",
    "            TP=0\n",
    "            TN=0\n",
    "            FN=0\n",
    "            FP=0\n",
    "\n",
    "            for i in range(34):\n",
    "\n",
    "                outlier=list_of_df[i]>method[g]\n",
    "                \n",
    "                prediction_ = (outlier.astype(int)==1).reshape(-1)\n",
    "                true_= anomaly[i][:len(prediction_)]>=1\n",
    "\n",
    "                TP = TP+(true_ & prediction_).sum()   \n",
    "                TN = TN+(~true_ & ~prediction_).sum()  \n",
    "                FP = FP+(~true_ & prediction_).sum()    \n",
    "                FN = FN+(true_ & ~prediction_).sum()    \n",
    "\n",
    "            PREC=TP / (TP + FP)\n",
    "            REC = TP/ (TP+FN)\n",
    "            f1=2 * PREC * REC/(PREC + REC)\n",
    "            m=['IQR','MAD','STD']\n",
    "            row=[t,m[g],method[g],f1,PREC,REC,TP,TN,FP,FN]\n",
    "            writer.writerow(row)"
   ]
  }
 ],
 "metadata": {
  "language_info": {
   "name": "python"
  },
  "orig_nbformat": 4
 },
 "nbformat": 4,
 "nbformat_minor": 2
}
