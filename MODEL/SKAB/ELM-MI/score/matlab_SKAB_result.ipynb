{
 "cells": [
  {
   "cell_type": "code",
   "execution_count": 9,
   "metadata": {},
   "outputs": [],
   "source": [
    "import pandas as pd\n",
    "import numpy as np\n",
    "import matplotlib.pyplot as plt\n",
    "%matplotlib inline"
   ]
  },
  {
   "cell_type": "code",
   "execution_count": 10,
   "metadata": {},
   "outputs": [],
   "source": [
    "all_files=[]\n",
    "title_an=[]\n",
    "import os\n",
    "for root, dirs, files in os.walk(\"./\"):\n",
    "    for file in files:\n",
    "        if file.endswith(\".csv\"):\n",
    "            all_files.append(os.path.join(root, file))\n",
    "            title_an.append(os.path.join(root, file))\n",
    "# datasets with anomalies loading\n",
    "list_of_df = [pd.read_csv(file, \n",
    "                          sep=';', \n",
    "                          parse_dates=True) for file in all_files if 'anomaly-free' not in file]\n",
    "\n",
    "all_files=[]\n",
    "title=[]\n",
    "import os\n",
    "for root, dirs, files in os.walk(\"./../../data/\"):\n",
    "    for file in files:\n",
    "        if file.endswith(\".csv\"):\n",
    "             all_files.append(os.path.join(root, file))\n",
    "             title.append(os.path.join(root, file))\n",
    "\n",
    "# datasets with anomalies loading\n",
    "list_of_df_Value = [pd.read_csv(file, \n",
    "                          sep=';', \n",
    "                          parse_dates=True) for file in all_files if 'anomaly-free' not in file]"
   ]
  },
  {
   "cell_type": "code",
   "execution_count": 12,
   "metadata": {},
   "outputs": [
    {
     "name": "stderr",
     "output_type": "stream",
     "text": [
      "100%|██████████| 33/33 [00:00<00:00, 578.46it/s]"
     ]
    },
    {
     "name": "stdout",
     "output_type": "stream",
     "text": [
      "F1:0.7713109212709729\n",
      "PREC:0.6319552847575407\n",
      "REC:0.9895135220373729\n",
      "TP:12550\n",
      "TN:16629\n",
      "FP:7309\n",
      "FN:133\n"
     ]
    },
    {
     "name": "stderr",
     "output_type": "stream",
     "text": [
      "\n"
     ]
    }
   ],
   "source": [
    "from tqdm import tqdm\n",
    "\n",
    "iter=0\n",
    "PREDICTION=[]\n",
    "TP=0\n",
    "TN=0\n",
    "FN=0\n",
    "FP=0\n",
    "REAL=[]\n",
    "\n",
    "THRESHOLD=[]\n",
    "FARR=[]\n",
    "MARR=[]\n",
    "\n",
    "#LOAD REAL ANOMALIES\n",
    "for df in list_of_df_Value:\n",
    "    REAL.append(df)\n",
    "\n",
    "#LOAD SCORE AND ANALISIS\n",
    "for df in tqdm(list_of_df):\n",
    "\n",
    "    REAL_=REAL[iter]\n",
    "\n",
    "    value=df.iloc[:,0]\n",
    "    \n",
    "    score=df.iloc[:50,0]\n",
    "\n",
    "    th=np.max(score)\n",
    "\n",
    "    outlier=value>th\n",
    "\n",
    "    outlier=np.array(outlier.astype(int))\n",
    "\n",
    "    real=np.array(REAL_['anomaly'])\n",
    "    true_= real[400:]==1\n",
    "    prediction_ = outlier[:]==1\n",
    "    \n",
    "    TP = TP+(true_ & prediction_).sum()   \n",
    "    TN = TN+(~true_ & ~prediction_).sum() +400 \n",
    "    FP = FP+(~true_ & prediction_).sum()    \n",
    "    FN = FN+(true_ & ~prediction_).sum()    \n",
    "    iter=iter+1\n",
    "    \n",
    "PREC=TP / (TP + FP)\n",
    "REC = TP/ (TP+FN)\n",
    "f1=2 * PREC * REC/(PREC + REC)\n",
    "\n",
    "print(f'F1:{f1}')\n",
    "print(f'PREC:{PREC}')\n",
    "print(f'REC:{REC}')\n",
    "\n",
    "print(f'TP:{TP}')\n",
    "print(f'TN:{TN}')\n",
    "print(f'FP:{FP}')\n",
    "print(f'FN:{FN}')"
   ]
  },
  {
   "cell_type": "code",
   "execution_count": 13,
   "metadata": {},
   "outputs": [
    {
     "name": "stdout",
     "output_type": "stream",
     "text": [
      "False Alarm Rate 30.53 %\n",
      "Missing Alarm Rate 1.05 %\n"
     ]
    }
   ],
   "source": [
    "print(f'False Alarm Rate {round(FP/(FP+TN)*100,2)} %' )\n",
    "print(f'Missing Alarm Rate {round(FN/(FN+TP)*100,2)} %')"
   ]
  }
 ],
 "metadata": {
  "kernelspec": {
   "display_name": "Python 3",
   "language": "python",
   "name": "python3"
  },
  "language_info": {
   "codemirror_mode": {
    "name": "ipython",
    "version": 3
   },
   "file_extension": ".py",
   "mimetype": "text/x-python",
   "name": "python",
   "nbconvert_exporter": "python",
   "pygments_lexer": "ipython3",
   "version": "3.10.4 (tags/v3.10.4:9d38120, Mar 23 2022, 23:13:41) [MSC v.1929 64 bit (AMD64)]"
  },
  "orig_nbformat": 4,
  "vscode": {
   "interpreter": {
    "hash": "7732ff24e494917fdc04ba71f0b346f07dc6128216c19827ae3641c937bc9395"
   }
  }
 },
 "nbformat": 4,
 "nbformat_minor": 2
}
