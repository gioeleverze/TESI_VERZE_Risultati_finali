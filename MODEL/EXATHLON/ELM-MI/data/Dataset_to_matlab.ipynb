{
 "cells": [
  {
   "cell_type": "code",
   "execution_count": 1,
   "metadata": {},
   "outputs": [],
   "source": [
    "SAMPLING_FACTOR=1"
   ]
  },
  {
   "cell_type": "code",
   "execution_count": 4,
   "metadata": {},
   "outputs": [],
   "source": [
    "\n",
    "\n",
    "t=[]\n",
    "cont=0\n",
    "import pickle\n",
    "import scipy.io\n",
    "import numpy as np\n",
    "for i in (range(1,11)):\n",
    "    if(i!=7):\n",
    "    \n",
    "        TEST=np.load(f'./../../OUTPUTS_ROOT/data/processed/spark_0_15s/spark_0_trace-scl_std/test{i}.npy',allow_pickle=True)\n",
    "\n",
    "        ANOMALY=np.load(f'./../../OUTPUTS_ROOT/data/processed/spark_0_15s/spark_0_trace-scl_std/y_test{i}.npy',allow_pickle=True)\n",
    "\n",
    "        with open(f'./../../OUTPUTS_ROOT/data/interim/spark_0_15s/test_info{i}.pkl', 'rb') as f:\n",
    "            TEST_info= pickle.load(f)\n",
    "\n",
    "        for x in range(len(TEST)):\n",
    "            #test=[]\n",
    "            prec=0\n",
    "            succ=SAMPLING_FACTOR\n",
    "            i=0\n",
    "            c=0\n",
    "\n",
    "            \n",
    "            while succ<len(TEST[x]):\n",
    "                line=[]\n",
    "                for v in range(19):\n",
    "                    line.append(TEST[x][prec:succ,v].mean())\n",
    "                    \n",
    "                t.append(np.array(line))\n",
    "\n",
    "                prec=succ\n",
    "                succ=succ+SAMPLING_FACTOR\n",
    "\n",
    "            t=np.array(t)\n",
    "\n",
    "            t=t.reshape(-1,19)\n",
    "            #print(t.shape)\n",
    "            dict = {}\n",
    "            dict['data'] = t\n",
    "            if cont<10:\n",
    "                scipy.io.savemat(f'0{cont}.mat',dict)\n",
    "            else:\n",
    "                scipy.io.savemat(f'{cont}.mat',dict)\n",
    "            t=[]\n",
    "            cont=cont+1\n",
    "\n"
   ]
  },
  {
   "attachments": {},
   "cell_type": "markdown",
   "metadata": {},
   "source": [
    "SAMPLED TRAIN"
   ]
  },
  {
   "cell_type": "code",
   "execution_count": 5,
   "metadata": {},
   "outputs": [
    {
     "name": "stdout",
     "output_type": "stream",
     "text": [
      "(62666, 19)\n",
      "(62666, 19)\n"
     ]
    }
   ],
   "source": [
    "with open(f'./../../DATA_SPLITTED/app_tot.pkl', 'rb') as f:\n",
    "    DATA = pickle.load(f)\n",
    "\n",
    "data=DATA['X_train']\n",
    "data=data[:,0,:].reshape(-1,19)\n",
    "\n",
    "print(data.shape)\n",
    "\n",
    "prec=0\n",
    "succ=SAMPLING_FACTOR\n",
    "i=0\n",
    "c=0\n",
    "\n",
    "t=[]\n",
    "\n",
    "while prec<len(data):\n",
    "    line=[]\n",
    "    for v in range(19):\n",
    "        line.append(data[prec:succ,v].mean())\n",
    "        \n",
    "    t.append(np.array(line))\n",
    "\n",
    "    prec=succ\n",
    "    succ=succ+SAMPLING_FACTOR\n",
    "\n",
    "t=np.array(t)\n",
    "\n",
    "t=t.reshape(-1,19)\n",
    "print(t.shape)\n",
    "\n",
    "import pickle\n",
    "import scipy.io\n",
    "\n",
    "\n",
    "dict = {}\n",
    "dict['data'] = t\n",
    "scipy.io.savemat(f'train{SAMPLING_FACTOR}.mat',dict)"
   ]
  },
  {
   "attachments": {},
   "cell_type": "markdown",
   "metadata": {},
   "source": [
    "THRESHOLD SET"
   ]
  },
  {
   "cell_type": "code",
   "execution_count": 4,
   "metadata": {},
   "outputs": [
    {
     "name": "stdout",
     "output_type": "stream",
     "text": [
      "(13579, 19)\n",
      "(13579, 19)\n"
     ]
    }
   ],
   "source": [
    "with open(f'./../../DATA_SPLITTED/app_tot.pkl', 'rb') as f:\n",
    "    DATA = pickle.load(f)\n",
    "\n",
    "data=DATA['X_test']\n",
    "data=data[:,0,:].reshape(-1,19)\n",
    "\n",
    "print(data.shape)\n",
    "\n",
    "prec=0\n",
    "succ=SAMPLING_FACTOR\n",
    "i=0\n",
    "c=0\n",
    "\n",
    "t=[]\n",
    "\n",
    "while prec<len(data):\n",
    "    line=[]\n",
    "    for v in range(19):\n",
    "        line.append(data[prec:succ,v].mean())\n",
    "        \n",
    "    t.append(np.array(line))\n",
    "\n",
    "    prec=succ\n",
    "    succ=succ+SAMPLING_FACTOR\n",
    "\n",
    "t=np.array(t)\n",
    "\n",
    "t=t.reshape(-1,19)\n",
    "print(t.shape)\n",
    "\n",
    "import pickle\n",
    "import scipy.io\n",
    "\n",
    "\n",
    "dict = {}\n",
    "dict['data'] = t\n",
    "scipy.io.savemat(f'test{SAMPLING_FACTOR}.mat',dict)"
   ]
  }
 ],
 "metadata": {
  "kernelspec": {
   "display_name": "Python 3",
   "language": "python",
   "name": "python3"
  },
  "language_info": {
   "codemirror_mode": {
    "name": "ipython",
    "version": 3
   },
   "file_extension": ".py",
   "mimetype": "text/x-python",
   "name": "python",
   "nbconvert_exporter": "python",
   "pygments_lexer": "ipython3",
   "version": "3.10.4"
  },
  "orig_nbformat": 4,
  "vscode": {
   "interpreter": {
    "hash": "7732ff24e494917fdc04ba71f0b346f07dc6128216c19827ae3641c937bc9395"
   }
  }
 },
 "nbformat": 4,
 "nbformat_minor": 2
}
